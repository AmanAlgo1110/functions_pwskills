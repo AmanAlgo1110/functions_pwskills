{
  "nbformat": 4,
  "nbformat_minor": 0,
  "metadata": {
    "colab": {
      "provenance": []
    },
    "kernelspec": {
      "name": "python3",
      "display_name": "Python 3"
    },
    "language_info": {
      "name": "python"
    }
  },
  "cells": [
    {
      "cell_type": "code",
      "execution_count": 1,
      "metadata": {
        "colab": {
          "base_uri": "https://localhost:8080/"
        },
        "id": "qRrHGc2Znis6",
        "outputId": "be4e61af-72ca-41dd-87c7-f82c32ae2082"
      },
      "outputs": [
        {
          "output_type": "stream",
          "name": "stdout",
          "text": [
            "12\n"
          ]
        }
      ],
      "source": [
        "# 1.Write a Python function that takes a list of numbers as input and returns the sum of all even numbers in the list.\n",
        "def list_even_sum(a):\n",
        "  ls=[];\n",
        "  n=0;\n",
        "  for i in a:\n",
        "    ls.append(i)\n",
        "  for i in ls:\n",
        "    if i%2==0:\n",
        "      n+=i;\n",
        "  return n;\n",
        "print(list_even_sum([1,2,3,4,5,6]));\n"
      ]
    },
    {
      "cell_type": "code",
      "source": [
        "# 2. Create a Python function that accepts a string and returns the reverse of that string.\n",
        "def rev_string(a):\n",
        "  b=a[::-1];\n",
        "  return b;\n",
        "print(rev_string(\"Pw\"))"
      ],
      "metadata": {
        "colab": {
          "base_uri": "https://localhost:8080/"
        },
        "id": "6Cwxk6FUo-Qf",
        "outputId": "c3d5a3c6-1592-408c-d44a-d5abfa1e8e67"
      },
      "execution_count": 5,
      "outputs": [
        {
          "output_type": "stream",
          "name": "stdout",
          "text": [
            "wP\n"
          ]
        }
      ]
    },
    {
      "cell_type": "code",
      "source": [
        "# 3.Implement a Python function that takes a list of integers and returns a new list containing the squares of each number.\n",
        "def list_square(a):\n",
        "  ls=[];\n",
        "  for i in a:\n",
        "    ls.append(i**2);\n",
        "  return ls;\n",
        "print(list_square([1,2,3,4,5,6]))"
      ],
      "metadata": {
        "colab": {
          "base_uri": "https://localhost:8080/"
        },
        "id": "2ucPXVaJphyn",
        "outputId": "57a1e054-95e1-4f3d-9621-7e4d7f3c25b1"
      },
      "execution_count": 6,
      "outputs": [
        {
          "output_type": "stream",
          "name": "stdout",
          "text": [
            "[1, 4, 9, 16, 25, 36]\n"
          ]
        }
      ]
    },
    {
      "cell_type": "code",
      "source": [
        "# 4. Write a Python function that checks if a given number is prime or not from 1 to 200.\n",
        "def prime_checker(a):\n",
        "  for i in range(2,a):\n",
        "    if a%i==0:\n",
        "      print(\"it is not a prime number\");\n",
        "      break;\n",
        "  else:\n",
        "      print(\"this is a prime number\");\n",
        "prime_checker(12)\n",
        "\n",
        "\n"
      ],
      "metadata": {
        "colab": {
          "base_uri": "https://localhost:8080/"
        },
        "id": "FSCaqmDip_63",
        "outputId": "1b582c8b-4c4c-424a-d1b6-948280816a64"
      },
      "execution_count": 39,
      "outputs": [
        {
          "output_type": "stream",
          "name": "stdout",
          "text": [
            "it is not a prime number\n"
          ]
        }
      ]
    },
    {
      "cell_type": "code",
      "source": [
        "# 5.  Create an iterator class in Python that generates the Fibonacci sequence up to a specified number of terms.\n",
        "def fabo(n):\n",
        "  a=0;\n",
        "  b=1;\n",
        "  for i in range(n):\n",
        "    yield a;\n",
        "    a,b=b,a+b;\n",
        "f=fabo(10)\n",
        "print(next(f))\n",
        "print(next(f))\n",
        "print(next(f))\n",
        "print(next(f))\n",
        "print(next(f))\n",
        "print(next(f))\n",
        "\n"
      ],
      "metadata": {
        "colab": {
          "base_uri": "https://localhost:8080/"
        },
        "id": "fCL5DNpGs06W",
        "outputId": "1cf441db-e293-41e6-93f6-a97edfd741d4"
      },
      "execution_count": 18,
      "outputs": [
        {
          "output_type": "stream",
          "name": "stdout",
          "text": [
            "0\n",
            "1\n",
            "1\n",
            "2\n",
            "3\n",
            "5\n"
          ]
        }
      ]
    },
    {
      "cell_type": "code",
      "source": [
        "# 6. Write a generator function in Python that yields the powers of 2 up to a given exponent.\n",
        "def ex(n):\n",
        "  for i in range(n):\n",
        "    yield i**2;\n",
        "f=ex(5)\n",
        "print(next(f))\n",
        "print(next(f))\n",
        "print(next(f))\n",
        "print(next(f))\n",
        "print(next(f))"
      ],
      "metadata": {
        "colab": {
          "base_uri": "https://localhost:8080/"
        },
        "id": "Ue5nw1bAu0T-",
        "outputId": "4beef265-5676-4d7c-a61c-5b511c15f77a"
      },
      "execution_count": 21,
      "outputs": [
        {
          "output_type": "stream",
          "name": "stdout",
          "text": [
            "0\n",
            "1\n",
            "4\n",
            "9\n",
            "16\n"
          ]
        }
      ]
    },
    {
      "cell_type": "code",
      "source": [
        "# 7. Implement a generator function that reads a file line by line and yields each line as a string.\n"
      ],
      "metadata": {
        "id": "D0yNYaBfva81"
      },
      "execution_count": null,
      "outputs": []
    },
    {
      "cell_type": "code",
      "source": [
        "# 8. Use a lambda function in Python to sort a list of tuples based on the second element of each tuple.\n",
        "l=[(1,0),(2,1),(4,2),(7,4),(9,3)]\n",
        "sorted_data=sorted(l,key=lambda x:x[1])\n",
        "print(sorted_data)"
      ],
      "metadata": {
        "colab": {
          "base_uri": "https://localhost:8080/"
        },
        "id": "eT21SjaLzNms",
        "outputId": "f7fa8738-c456-472f-987d-184f11661e35"
      },
      "execution_count": 42,
      "outputs": [
        {
          "output_type": "stream",
          "name": "stdout",
          "text": [
            "[(1, 0), (2, 1), (4, 2), (9, 3), (7, 4)]\n"
          ]
        }
      ]
    },
    {
      "cell_type": "code",
      "source": [
        "# 9.Write a Python program that uses `map()` to convert a list of temperatures from Celsius to Fahrenheit.\n",
        "l=[28,56,45,78,96]\n",
        "list(map(lambda c:((9*c)/5)+32,l))"
      ],
      "metadata": {
        "colab": {
          "base_uri": "https://localhost:8080/"
        },
        "id": "ZU7YDPfczpK8",
        "outputId": "a31d364c-5532-4b73-dab0-c30dc08e9646"
      },
      "execution_count": 25,
      "outputs": [
        {
          "output_type": "execute_result",
          "data": {
            "text/plain": [
              "[82.4, 132.8, 113.0, 172.4, 204.8]"
            ]
          },
          "metadata": {},
          "execution_count": 25
        }
      ]
    },
    {
      "cell_type": "code",
      "source": [
        "#10. Create a Python program that uses `filter()` to remove all the vowels from a given string.\n",
        "def vowel_filter(text):\n",
        "  vowel=\"aeiouAEIOU\";\n",
        "  return ''.join(filter(lambda char:char not in vowel,text));\n",
        "print(vowel_filter(\"aman\"))"
      ],
      "metadata": {
        "colab": {
          "base_uri": "https://localhost:8080/"
        },
        "id": "wFtIlQvj1b1M",
        "outputId": "4e31bd5a-bc7b-43b4-c486-a209f1f6e9b8"
      },
      "execution_count": 43,
      "outputs": [
        {
          "output_type": "stream",
          "name": "stdout",
          "text": [
            "mn\n"
          ]
        }
      ]
    },
    {
      "cell_type": "markdown",
      "source": [
        " 1. What is the difference between a function and a method in Python?\n",
        " -->In Python, a function is a block of code that performs a specific task and is defined using the def keyword. It works on its own and is not tied to any specific object. On the other hand, a method is also a function, but it is associated with an object, like a string, list, or dictionary. one call a function by its name, but one call a method using the dot . notation because it belongs to an object.\n",
        "\n",
        "2.Explain the concept of function arguments and parameters in Python.\n",
        "-->In Python, parameters are the names listed in a function’s definition, and arguments are the actual values passed into the function when it is called. Parameters act as placeholders, while arguments are the real data. When the function is called, the arguments are assigned to the parameters, allowing the function to use those values in its operations.\n",
        "\n",
        "3.. What are the different ways to define and call a function in Python\n",
        "-->In Python, there are several ways to define and call functions. The most common method is using the def keyword to define a function, followed by its name and parameters (if any). For example, a function can be defined with parameters, and when called, specific values (arguments) are passed to these parameters. Functions can also return values using the return keyword, which allows the caller to capture and use the result. In addition to regular functions, Python supports lambda functions, which are small anonymous functions defined using the lambda keyword. These are often used for short, simple tasks. Functions can also have default parameter values, so if no argument is passed, the function uses the default value. For cases where a function needs to accept a variable number of arguments, Python provides special syntax like *args for a variable number of positional arguments and **kwargs for keyword arguments. Each of these methods provides flexibility for defining and calling functions based on different needs, making Python functions highly versatile.\n",
        "\n",
        "4. What is the purpose of the `return` statement in a Python function?\n",
        "-->The return statement in a Python function is used to send a result or value back to the caller of the function. When a function is called, it performs some operations, and the return statement allows it to pass the result of those operations back to where the function was called. Without the return statement, a function will return None by default.\n",
        "\n",
        "The primary purpose of the return statement is to provide the function's output, which can then be used for further computations or actions in the program. The return statement also terminates the function, meaning once it is executed, the function's remaining code (if any) is not executed.\n",
        "\n",
        "5. What are iterators in Python and how do they differ from iterables?\n",
        "-->In Python, iterators and iterables are closely related concepts, but they serve different purposes in terms of how data is accessed and traversed.\n",
        "\n",
        "Iterables:\n",
        "An iterable is any Python object capable of returning its members one at a time, permitting it to be iterated over in a for loop or with other iteration mechanisms. Common iterables include lists, tuples, strings, and dictionaries. The key characteristic of an iterable is that it has an __iter__() method that returns an iterator. In simpler terms, an iterable is an object that can be \"iterated\" over (looped through).\n",
        "\n",
        "Iterators:\n",
        "An iterator is an object that represents a stream of data and is used to iterate over the elements of an iterable. Iterators are more specific than iterables because they not only provide access to the elements of the iterable but also remember the current position in the iteration.\n",
        "\n",
        "6.Explain the concept of generators in Python and how they are defined.\n",
        "-->In Python, generators are a special type of iterator that allow for efficient iteration over large data sets, producing values on the fly without storing them in memory all at once. This makes generators especially useful for handling large streams of data or when you want to generate values lazily (i.e., only when needed).\n",
        "\n",
        "7.. What are the advantages of using generators over regular functions?\n",
        "-->Using generators over regular functions (that return all results at once) offers several distinct advantages, especially in terms of memory efficiency and performance. Here’s an explanation of the key benefits:\n",
        "\n",
        "1. Memory Efficiency:\n",
        "Generators produce values one at a time and do not store all the values in memory. This is extremely useful when working with large data sets, as you don't need to hold the entire dataset in memory at once.\n",
        "\n",
        "In contrast, regular functions that return lists or other collections typically require all the values to be stored in memory simultaneously, which can be inefficient for large data sets.\n",
        "\n",
        "Example: Imagine you want to iterate through a range of 1 million numbers. A regular function that returns a list of all numbers would need memory to store the entire list. A generator would only store one number at a time, making it far more memory-efficient.\n",
        "\n",
        "2. Lazy Evaluation:\n",
        "Generators work on a principle called lazy evaluation, meaning values are only computed and returned when they are requested (using next() or a loop). This allows for efficient handling of data streams or infinite sequences, as they don't compute all values upfront.\n",
        "\n",
        "Regular functions, on the other hand, compute all results at once and return them in bulk (e.g., a list), which can be wasteful if only part of the data is needed.\n",
        "\n",
        "Example: For an infinite sequence like counting numbers (1, 2, 3, ...), a generator would never run out of memory or resources, as it only produces the next number on demand. A regular function, if it generated all numbers at once, would either require infinite memory or crash due to overflow.\n",
        "\n",
        "3. Performance Improvement:\n",
        "Generators can help improve the performance of your program by reducing the amount of data to process at any given time. Since they generate values only when needed, you don’t incur the overhead of handling large datasets all at once.\n",
        "\n",
        "With regular functions, since they return everything at once (like a list), the system needs to handle and possibly process all data at once, which can be slower and more resource-intensive.\n",
        "\n",
        "4. Simpler Code for Iteration:\n",
        "Generators allow for clean, concise, and readable code. The use of yield in place of manually managing state for iteration (as you would with a traditional iterator) makes the code simpler.\n",
        "\n",
        "Regular functions can involve more complex logic for iteration, especially if you need to manually keep track of the current position in a list or range.\n",
        "\n",
        "8. What is a lambda function in Python and when is it typically used?\n",
        "-->A lambda function in Python is a small, anonymous function defined using the lambda keyword. Unlike regular functions defined with def, a lambda function is typically used for simple tasks that can be written in a single line. Lambda functions do not require a function name (hence \"anonymous\"), and they are used when you need a quick, short function that won’t be reused elsewhere.\n",
        "\n",
        "9.Explain the purpose and usage of the map() function in Python.\n",
        "-->The map() function in Python is a built-in function that allows you to apply a given function to each item in an iterable (such as a list, tuple, etc.) and return an iterator (a map object) that produces the results. The purpose of map() is to simplify applying a transformation or operation to all elements of an iterable in a concise and efficient manner.\n",
        "\n",
        "10.What is the difference between `map()`, `reduce()`, and `filter()` functions in Python?\n",
        "\n",
        "\n",
        "-->Key Differences Between map(), filter(), and reduce():\n",
        "Purpose:\n",
        "\n",
        "map(): Applies a function to every element in an iterable, transforming each element individually.\n",
        "\n",
        "filter(): Applies a function to each element and filters out the ones for which the function returns False.\n",
        "\n",
        "reduce(): Combines all elements of an iterable into a single cumulative result by applying a function that takes two arguments.\n",
        "\n",
        "Output:\n",
        "\n",
        "map(): Returns a new iterable (map object) with transformed elements.\n",
        "\n",
        "filter(): Returns a new iterable with only the elements that satisfy a condition.\n",
        "\n",
        "reduce(): Returns a single cumulative value after processing all elements.\n",
        "\n",
        "Use Case:\n",
        "\n",
        "map(): Used for applying transformations or operations to each element in an iterable.\n",
        "\n",
        "filter(): Used for filtering elements in an iterable based on a condition.\n",
        "\n",
        "reduce(): Used when you need to reduce a sequence of elements to a single value, like summing or multiplying all the elements."
      ],
      "metadata": {
        "id": "1aFG2UV4_YXK"
      }
    },
    {
      "cell_type": "markdown",
      "source": [],
      "metadata": {
        "id": "P6f1_mtyCEkZ"
      }
    }
  ]
}